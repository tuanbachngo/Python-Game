{
 "cells": [
  {
   "cell_type": "markdown",
   "id": "cd670769",
   "metadata": {},
   "source": [
    "**First Step**"
   ]
  },
  {
   "cell_type": "code",
   "execution_count": 2,
   "id": "546b9ca4",
   "metadata": {},
   "outputs": [
    {
     "name": "stdout",
     "output_type": "stream",
     "text": [
      "3.13.5 (tags/v3.13.5:6cb20a2, Jun 11 2025, 16:15:46) [MSC v.1943 64 bit (AMD64)]\n",
      "c:\\Users\\Admin\\AppData\\Local\\Programs\\Python\\Python313\\python.exe\n"
     ]
    }
   ],
   "source": [
    "import sys\n",
    "print(sys.version)\n",
    "print(sys.executable)  # this is the Python your notebook kernel uses\n"
   ]
  },
  {
   "cell_type": "code",
   "execution_count": 3,
   "id": "5cd15ad5",
   "metadata": {},
   "outputs": [
    {
     "name": "stdout",
     "output_type": "stream",
     "text": [
      "Collecting pygame\n",
      "  Downloading pygame-2.6.1-cp313-cp313-win_amd64.whl.metadata (13 kB)\n",
      "Downloading pygame-2.6.1-cp313-cp313-win_amd64.whl (10.6 MB)\n",
      "   ---------------------------------------- 0.0/10.6 MB ? eta -:--:--\n",
      "   ---------------------------------------- 0.0/10.6 MB ? eta -:--:--\n",
      "   --- ------------------------------------ 1.0/10.6 MB 7.0 MB/s eta 0:00:02\n",
      "   ---- ----------------------------------- 1.3/10.6 MB 2.7 MB/s eta 0:00:04\n",
      "   ------ --------------------------------- 1.8/10.6 MB 2.6 MB/s eta 0:00:04\n",
      "   -------- ------------------------------- 2.4/10.6 MB 2.6 MB/s eta 0:00:04\n",
      "   -------- ------------------------------- 2.4/10.6 MB 2.6 MB/s eta 0:00:04\n",
      "   ----------- ---------------------------- 3.1/10.6 MB 2.6 MB/s eta 0:00:03\n",
      "   ------------- -------------------------- 3.7/10.6 MB 2.3 MB/s eta 0:00:03\n",
      "   -------------- ------------------------- 3.9/10.6 MB 2.4 MB/s eta 0:00:03\n",
      "   ----------------- ---------------------- 4.7/10.6 MB 2.5 MB/s eta 0:00:03\n",
      "   ------------------- -------------------- 5.2/10.6 MB 2.4 MB/s eta 0:00:03\n",
      "   --------------------- ------------------ 5.8/10.6 MB 2.4 MB/s eta 0:00:03\n",
      "   ----------------------- ---------------- 6.3/10.6 MB 2.5 MB/s eta 0:00:02\n",
      "   ----------------------- ---------------- 6.3/10.6 MB 2.5 MB/s eta 0:00:02\n",
      "   ----------------------- ---------------- 6.3/10.6 MB 2.5 MB/s eta 0:00:02\n",
      "   ------------------------ --------------- 6.6/10.6 MB 2.1 MB/s eta 0:00:02\n",
      "   ------------------------- -------------- 6.8/10.6 MB 2.0 MB/s eta 0:00:02\n",
      "   -------------------------- ------------- 7.1/10.6 MB 1.9 MB/s eta 0:00:02\n",
      "   -------------------------- ------------- 7.1/10.6 MB 1.9 MB/s eta 0:00:02\n",
      "   --------------------------- ------------ 7.3/10.6 MB 1.8 MB/s eta 0:00:02\n",
      "   ---------------------------- ----------- 7.6/10.6 MB 1.8 MB/s eta 0:00:02\n",
      "   ----------------------------- ---------- 7.9/10.6 MB 1.8 MB/s eta 0:00:02\n",
      "   ------------------------------- -------- 8.4/10.6 MB 1.8 MB/s eta 0:00:02\n",
      "   --------------------------------- ------ 8.9/10.6 MB 1.8 MB/s eta 0:00:01\n",
      "   ----------------------------------- ---- 9.4/10.6 MB 1.8 MB/s eta 0:00:01\n",
      "   ------------------------------------ --- 9.7/10.6 MB 1.8 MB/s eta 0:00:01\n",
      "   -------------------------------------- - 10.2/10.6 MB 1.8 MB/s eta 0:00:01\n",
      "   ---------------------------------------  10.5/10.6 MB 1.8 MB/s eta 0:00:01\n",
      "   ---------------------------------------- 10.6/10.6 MB 1.8 MB/s  0:00:05\n",
      "Installing collected packages: pygame\n",
      "Successfully installed pygame-2.6.1\n",
      "Note: you may need to restart the kernel to use updated packages.\n"
     ]
    }
   ],
   "source": [
    "%pip install -U pygame\n"
   ]
  },
  {
   "cell_type": "code",
   "execution_count": null,
   "id": "221551b7",
   "metadata": {},
   "outputs": [],
   "source": []
  }
 ],
 "metadata": {
  "kernelspec": {
   "display_name": "Python 3",
   "language": "python",
   "name": "python3"
  },
  "language_info": {
   "codemirror_mode": {
    "name": "ipython",
    "version": 3
   },
   "file_extension": ".py",
   "mimetype": "text/x-python",
   "name": "python",
   "nbconvert_exporter": "python",
   "pygments_lexer": "ipython3",
   "version": "3.13.5"
  }
 },
 "nbformat": 4,
 "nbformat_minor": 5
}
