{
 "cells": [
  {
   "cell_type": "code",
   "execution_count": 1,
   "id": "9441c3a2",
   "metadata": {},
   "outputs": [
    {
     "name": "stdout",
     "output_type": "stream",
     "text": [
      "pygame 2.6.1 (SDL 2.28.4, Python 3.13.5)\n",
      "Hello from the pygame community. https://www.pygame.org/contribute.html\n"
     ]
    }
   ],
   "source": [
    "import pygame\n",
    "\n",
    "pygame.init()\n",
    "WIDTH, HEIGHT = 640, 400\n",
    "screen = pygame.display.set_mode((WIDTH, HEIGHT)) # Khởi tạo không giao trò chơi với pixel thế nào\n",
    "pygame.display.set_caption(\"Pygame OK!\")\n",
    "\n",
    "running = True\n",
    "\n",
    "while running: # khởi tạo vòng loop để game diễn ra\n",
    "    for event in pygame.event.get():\n",
    "        if event.type == pygame.QUIT:\n",
    "            running = False # nếu False sẽ là kết thúc trò chơi, ở đây kết thúc là bằng cách ấn tắt\n",
    "\n",
    "    screen.fill((25, 28, 35))  # màu sắc (x,y,z)\n",
    "    pygame.display.flip() \n",
    "    # Khởi tạo không gian bên trên nhưng hình ảnh mình hiển thị sẽ cần đè lên không gian trước nên cần lệnh .displayflip()\n",
    "\n",
    "pygame.quit()\n",
    "\n",
    "# Khởi tạo không giao trò chơi\n"
   ]
  },
  {
   "cell_type": "code",
   "execution_count": null,
   "id": "468ddef1",
   "metadata": {},
   "outputs": [],
   "source": []
  }
 ],
 "metadata": {
  "kernelspec": {
   "display_name": "Python 3",
   "language": "python",
   "name": "python3"
  },
  "language_info": {
   "codemirror_mode": {
    "name": "ipython",
    "version": 3
   },
   "file_extension": ".py",
   "mimetype": "text/x-python",
   "name": "python",
   "nbconvert_exporter": "python",
   "pygments_lexer": "ipython3",
   "version": "3.13.5"
  }
 },
 "nbformat": 4,
 "nbformat_minor": 5
}
