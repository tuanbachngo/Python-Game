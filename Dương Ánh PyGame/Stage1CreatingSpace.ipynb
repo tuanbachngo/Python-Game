{
 "cells": [
  {
   "cell_type": "code",
   "execution_count": null,
   "id": "d59510f0",
   "metadata": {},
   "outputs": [],
   "source": [
    "%pip install Pillow"
   ]
  },
  {
   "cell_type": "code",
   "execution_count": null,
   "id": "3de8212c",
   "metadata": {},
   "outputs": [
    {
     "name": "stdout",
     "output_type": "stream",
     "text": [
      "(1024, 576)\n"
     ]
    }
   ],
   "source": [
    "from PIL import Image\n",
    "\n",
    "img = Image.open('ground.png')\n",
    "print(img.size) # cái này t dùng t đo coi kích thước ảnh là nhiêu để chỉnh kích thước màn \n"
   ]
  },
  {
   "cell_type": "code",
   "execution_count": 1,
   "id": "3672a676",
   "metadata": {},
   "outputs": [
    {
     "name": "stderr",
     "output_type": "stream",
     "text": [
      "<>:10: SyntaxWarning: invalid escape sequence '\\P'\n",
      "<>:15: SyntaxWarning: invalid escape sequence '\\P'\n",
      "<>:10: SyntaxWarning: invalid escape sequence '\\P'\n",
      "<>:15: SyntaxWarning: invalid escape sequence '\\P'\n",
      "C:\\Users\\ADMIN\\AppData\\Local\\Temp\\ipykernel_19488\\719643078.py:10: SyntaxWarning: invalid escape sequence '\\P'\n",
      "  font = pygame.font.Font(\"D:\\Python NEU\\PixelifySans-VariableFont_wght.ttf\", 30) # down font mình muốn về vè copy path paste\n",
      "C:\\Users\\ADMIN\\AppData\\Local\\Temp\\ipykernel_19488\\719643078.py:15: SyntaxWarning: invalid escape sequence '\\P'\n",
      "  player = pygame.image.load(\"D:\\Python NEU\\pngtree-yellow-pixel-duck-cartoon-decorative-element-png-image_16986838.webp\")\n",
      "c:\\Users\\ADMIN\\AppData\\Local\\Programs\\Python\\Python313\\Lib\\site-packages\\pygame\\pkgdata.py:25: UserWarning: pkg_resources is deprecated as an API. See https://setuptools.pypa.io/en/latest/pkg_resources.html. The pkg_resources package is slated for removal as early as 2025-11-30. Refrain from using this package or pin to Setuptools<81.\n",
      "  from pkg_resources import resource_stream, resource_exists\n"
     ]
    },
    {
     "name": "stdout",
     "output_type": "stream",
     "text": [
      "pygame 2.6.1 (SDL 2.28.4, Python 3.13.5)\n",
      "Hello from the pygame community. https://www.pygame.org/contribute.html\n"
     ]
    },
    {
     "ename": "SystemExit",
     "evalue": "",
     "output_type": "error",
     "traceback": [
      "An exception has occurred, use %tb to see the full traceback.\n",
      "\u001b[31mSystemExit\u001b[39m\n"
     ]
    },
    {
     "name": "stderr",
     "output_type": "stream",
     "text": [
      "C:\\Users\\ADMIN\\AppData\\Roaming\\Python\\Python313\\site-packages\\IPython\\core\\interactiveshell.py:3707: UserWarning: To exit: use 'exit', 'quit', or Ctrl-D.\n",
      "  warn(\"To exit: use 'exit', 'quit', or Ctrl-D.\", stacklevel=1)\n",
      "C:\\Users\\ADMIN\\AppData\\Local\\Temp\\ipykernel_19488\\719643078.py:10: SyntaxWarning: invalid escape sequence '\\P'\n",
      "  font = pygame.font.Font(\"D:\\Python NEU\\PixelifySans-VariableFont_wght.ttf\", 30) # down font mình muốn về vè copy path paste\n",
      "C:\\Users\\ADMIN\\AppData\\Local\\Temp\\ipykernel_19488\\719643078.py:15: SyntaxWarning: invalid escape sequence '\\P'\n",
      "  player = pygame.image.load(\"D:\\Python NEU\\pngtree-yellow-pixel-duck-cartoon-decorative-element-png-image_16986838.webp\")\n"
     ]
    }
   ],
   "source": [
    "# Stage 0: Tạo không gian cho game \n",
    "\n",
    "import pygame\n",
    "from sys import exit\n",
    "\n",
    "pygame.init()\n",
    "screen = pygame.display.set_mode((600, 375)) # tạo màn hình game theo kích thước\n",
    "pygame.display.set_caption('Ping 1: Adventure') # caption xuất hiện trên màn hình\n",
    "clock = pygame.time.Clock()\n",
    "font = pygame.font.Font(\"D:\\Python NEU\\PixelifySans-VariableFont_wght.ttf\", 30) # down font mình muốn về vè copy path paste \n",
    "\n",
    "sky_surface = pygame.image.load('sky.jpg') \n",
    "ground_surface = pygame.image.load('grd.png')\n",
    "text = font.render('my game', False, 'Yellow') # False là chữ răng cưa, True là chữ mượt \n",
    "player = pygame.image.load(\"D:\\Python NEU\\pngtree-yellow-pixel-duck-cartoon-decorative-element-png-image_16986838.webp\")\n",
    "player_main = pygame.transform.smoothscale(player,(40,45))\n",
    "while True:\n",
    "    for event in pygame.event.get(): # chạy các sự kiện trong game, kiểm tra các sự kiện\n",
    "        if event.type == pygame.QUIT: # quit nếu gặp các common thao tác như bấm enter, click chuột, ấn phím bất kỳ, ấn X, so on...\n",
    "            pygame.quit()\n",
    "            exit()\n",
    "    screen.fill((25, 28, 35)) # tô màu màn hình theo các sắc độ màu (RED,GREEN,BLUE, max là 255, từ đó tự trộn màu)\n",
    "    screen.blit(sky_surface, (0, 0)) # load ảnh lên màn hình tính từ top left corner, các tọa độ khác tự ước tính theo set mode \n",
    "    screen.blit(ground_surface,(0,250)) # đặt ảnh ở điểm tọa độ y là 250 bên dưới\n",
    "    screen.blit(text, (240,30))\n",
    "    screen.blit(player_main,(5,210))\n",
    "    \n",
    "    pygame.display.flip() # update lên màn hình chính\n",
    "    # làm thêm phần chuyển động animations, trái phải \n",
    "pygame.quit()"
   ]
  }
 ],
 "metadata": {
  "kernelspec": {
   "display_name": "Python 3",
   "language": "python",
   "name": "python3"
  },
  "language_info": {
   "codemirror_mode": {
    "name": "ipython",
    "version": 3
   },
   "file_extension": ".py",
   "mimetype": "text/x-python",
   "name": "python",
   "nbconvert_exporter": "python",
   "pygments_lexer": "ipython3",
   "version": "3.13.5"
  }
 },
 "nbformat": 4,
 "nbformat_minor": 5
}
