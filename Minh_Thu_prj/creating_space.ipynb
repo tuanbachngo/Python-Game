{
 "cells": [
  {
   "cell_type": "code",
   "execution_count": 3,
   "id": "8a87f59d",
   "metadata": {},
   "outputs": [
    {
     "ename": "SystemExit",
     "evalue": "",
     "output_type": "error",
     "traceback": [
      "An exception has occurred, use %tb to see the full traceback.\n",
      "\u001b[31mSystemExit\u001b[39m\n"
     ]
    }
   ],
   "source": [
    "import pygame\n",
    "import sys\n",
    "\n",
    "pygame.init()\n",
    "\n",
    "WIDTH, HEIGHT = 960, 540\n",
    "screen = pygame.display.set_mode((WIDTH, HEIGHT))\n",
    "pygame.display.set_caption(\"Simple Game Space\")\n",
    "\n",
    "sky = pygame.image.load(\"sky.jpg\").convert()\n",
    "ground = pygame.image.load(\"ground.png\").convert()\n",
    "\n",
    "sky = pygame.transform.scale(sky, (WIDTH, HEIGHT))\n",
    "ground = pygame.transform.scale(ground, (WIDTH, 120)) \n",
    "\n",
    "PLAYER_COLOR = (100, 210, 230)\n",
    "player_rect = pygame.Rect(WIDTH // 2 - 25, HEIGHT - 200, 50, 70)  \n",
    "\n",
    "clock = pygame.time.Clock()\n",
    "\n",
    "while True:\n",
    "    for event in pygame.event.get():\n",
    "        if event.type == pygame.QUIT:\n",
    "            pygame.quit()\n",
    "            sys.exit()\n",
    "\n",
    "    screen.blit(sky, (0, 0))                  \n",
    "    screen.blit(ground, (0, HEIGHT - 120))    \n",
    "    pygame.draw.rect(screen, PLAYER_COLOR, player_rect, border_radius=8)  \n",
    "\n",
    "    pygame.display.flip()\n",
    "    clock.tick(60)\n"
   ]
  }
 ],
 "metadata": {
  "kernelspec": {
   "display_name": "Python 3",
   "language": "python",
   "name": "python3"
  },
  "language_info": {
   "codemirror_mode": {
    "name": "ipython",
    "version": 3
   },
   "file_extension": ".py",
   "mimetype": "text/x-python",
   "name": "python",
   "nbconvert_exporter": "python",
   "pygments_lexer": "ipython3",
   "version": "3.11.9"
  }
 },
 "nbformat": 4,
 "nbformat_minor": 5
}
